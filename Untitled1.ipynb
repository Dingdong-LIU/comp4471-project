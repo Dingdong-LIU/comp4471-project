{
 "cells": [
  {
   "cell_type": "code",
   "execution_count": 1,
   "metadata": {},
   "outputs": [],
   "source": [
    "#import keras\n",
    "import tensorflow as tf\n",
    "import tensorflow.keras\n",
    "import numpy as np\n",
    "import os\n",
    "from glob import glob\n",
    "import cv2\n",
    "from sklearn.model_selection import train_test_split\n",
    "from PIL import Image\n",
    "import skimage\n",
    "from tensorflow.keras.utils import to_categorical"
   ]
  },
  {
   "cell_type": "code",
   "execution_count": 2,
   "metadata": {},
   "outputs": [
    {
     "name": "stdout",
     "output_type": "stream",
     "text": [
      "/home/dingdong/anaconda3/envs/tf-gpu/bin/python\r\n"
     ]
    }
   ],
   "source": [
    "!which python"
   ]
  },
  {
   "cell_type": "code",
   "execution_count": 3,
   "metadata": {},
   "outputs": [
    {
     "name": "stdout",
     "output_type": "stream",
     "text": [
      "[PhysicalDevice(name='/physical_device:GPU:0', device_type='GPU')]\n"
     ]
    }
   ],
   "source": [
    "gpus= tf.config.list_physical_devices('GPU')\n",
    "print(gpus)\n",
    "tf.config.experimental.set_memory_growth(gpus[0], True)"
   ]
  },
  {
   "cell_type": "code",
   "execution_count": 38,
   "metadata": {},
   "outputs": [],
   "source": [
    "def plot_process(acc, val_acc, loss, val_loss):\n",
    "    plt.figure(figsize=(8, 8))\n",
    "    plt.subplot(2, 1, 1)\n",
    "    plt.plot(acc, label='Training Accuracy')\n",
    "    plt.plot(val_acc, label='Validation Accuracy')\n",
    "    plt.legend(loc='lower right')\n",
    "    plt.ylabel('Accuracy')\n",
    "\n",
    "    plt.title('Training and Validation Accuracy')\n",
    "\n",
    "    plt.subplot(2, 1, 2)\n",
    "    plt.plot(loss, label='Training Loss')\n",
    "    plt.plot(val_loss, label='Validation Loss')\n",
    "    plt.legend(loc='upper right')\n",
    "    plt.ylabel('Cross Entropy')\n",
    "\n",
    "    plt.title('Training and Validation Loss')\n",
    "    plt.xlabel('epoch')\n",
    "    plt.show()"
   ]
  },
  {
   "cell_type": "code",
   "execution_count": 4,
   "metadata": {
    "scrolled": false
   },
   "outputs": [],
   "source": [
    "base_model = tf.keras.applications.MobileNet(input_shape=(160, 160, 3),\n",
    "                                               include_top=False,\n",
    "                                               weights='imagenet')"
   ]
  },
  {
   "cell_type": "code",
   "execution_count": 5,
   "metadata": {},
   "outputs": [],
   "source": [
    "def load_CKPLUS():\n",
    "    label_names = ['anger', 'contempt', 'disgust', 'fear', 'happy', 'sadness', 'surprise']\n",
    "    images_arr = []\n",
    "    labels_arr = []\n",
    "    ini_path = '../Facial expression/data/CK+48'\n",
    "\n",
    "    for i in range(len(label_names)):\n",
    "        temp_path = os.path.join(ini_path, label_names[i])\n",
    "        datas = glob(os.path.join(temp_path, '*.png'))\n",
    "        for data in datas:\n",
    "            img = Image.open(data)\n",
    "            img = img.resize((160, 160))\n",
    "            img = skimage.img_as_float(img)\n",
    "            img2 = cv2.merge((img,img,img))\n",
    "\n",
    "            images_arr.append(img2)\n",
    "            labels_arr.append(i)\n",
    "\n",
    "\n",
    "    return images_arr, labels_arr\n",
    "\n",
    "\n"
   ]
  },
  {
   "cell_type": "code",
   "execution_count": 6,
   "metadata": {
    "scrolled": true
   },
   "outputs": [
    {
     "name": "stdout",
     "output_type": "stream",
     "text": [
      "Model: \"mobilenet_1.00_160\"\n",
      "_________________________________________________________________\n",
      "Layer (type)                 Output Shape              Param #   \n",
      "=================================================================\n",
      "input_1 (InputLayer)         [(None, 160, 160, 3)]     0         \n",
      "_________________________________________________________________\n",
      "conv1_pad (ZeroPadding2D)    (None, 161, 161, 3)       0         \n",
      "_________________________________________________________________\n",
      "conv1 (Conv2D)               (None, 80, 80, 32)        864       \n",
      "_________________________________________________________________\n",
      "conv1_bn (BatchNormalization (None, 80, 80, 32)        128       \n",
      "_________________________________________________________________\n",
      "conv1_relu (ReLU)            (None, 80, 80, 32)        0         \n",
      "_________________________________________________________________\n",
      "conv_dw_1 (DepthwiseConv2D)  (None, 80, 80, 32)        288       \n",
      "_________________________________________________________________\n",
      "conv_dw_1_bn (BatchNormaliza (None, 80, 80, 32)        128       \n",
      "_________________________________________________________________\n",
      "conv_dw_1_relu (ReLU)        (None, 80, 80, 32)        0         \n",
      "_________________________________________________________________\n",
      "conv_pw_1 (Conv2D)           (None, 80, 80, 64)        2048      \n",
      "_________________________________________________________________\n",
      "conv_pw_1_bn (BatchNormaliza (None, 80, 80, 64)        256       \n",
      "_________________________________________________________________\n",
      "conv_pw_1_relu (ReLU)        (None, 80, 80, 64)        0         \n",
      "_________________________________________________________________\n",
      "conv_pad_2 (ZeroPadding2D)   (None, 81, 81, 64)        0         \n",
      "_________________________________________________________________\n",
      "conv_dw_2 (DepthwiseConv2D)  (None, 40, 40, 64)        576       \n",
      "_________________________________________________________________\n",
      "conv_dw_2_bn (BatchNormaliza (None, 40, 40, 64)        256       \n",
      "_________________________________________________________________\n",
      "conv_dw_2_relu (ReLU)        (None, 40, 40, 64)        0         \n",
      "_________________________________________________________________\n",
      "conv_pw_2 (Conv2D)           (None, 40, 40, 128)       8192      \n",
      "_________________________________________________________________\n",
      "conv_pw_2_bn (BatchNormaliza (None, 40, 40, 128)       512       \n",
      "_________________________________________________________________\n",
      "conv_pw_2_relu (ReLU)        (None, 40, 40, 128)       0         \n",
      "_________________________________________________________________\n",
      "conv_dw_3 (DepthwiseConv2D)  (None, 40, 40, 128)       1152      \n",
      "_________________________________________________________________\n",
      "conv_dw_3_bn (BatchNormaliza (None, 40, 40, 128)       512       \n",
      "_________________________________________________________________\n",
      "conv_dw_3_relu (ReLU)        (None, 40, 40, 128)       0         \n",
      "_________________________________________________________________\n",
      "conv_pw_3 (Conv2D)           (None, 40, 40, 128)       16384     \n",
      "_________________________________________________________________\n",
      "conv_pw_3_bn (BatchNormaliza (None, 40, 40, 128)       512       \n",
      "_________________________________________________________________\n",
      "conv_pw_3_relu (ReLU)        (None, 40, 40, 128)       0         \n",
      "_________________________________________________________________\n",
      "conv_pad_4 (ZeroPadding2D)   (None, 41, 41, 128)       0         \n",
      "_________________________________________________________________\n",
      "conv_dw_4 (DepthwiseConv2D)  (None, 20, 20, 128)       1152      \n",
      "_________________________________________________________________\n",
      "conv_dw_4_bn (BatchNormaliza (None, 20, 20, 128)       512       \n",
      "_________________________________________________________________\n",
      "conv_dw_4_relu (ReLU)        (None, 20, 20, 128)       0         \n",
      "_________________________________________________________________\n",
      "conv_pw_4 (Conv2D)           (None, 20, 20, 256)       32768     \n",
      "_________________________________________________________________\n",
      "conv_pw_4_bn (BatchNormaliza (None, 20, 20, 256)       1024      \n",
      "_________________________________________________________________\n",
      "conv_pw_4_relu (ReLU)        (None, 20, 20, 256)       0         \n",
      "_________________________________________________________________\n",
      "conv_dw_5 (DepthwiseConv2D)  (None, 20, 20, 256)       2304      \n",
      "_________________________________________________________________\n",
      "conv_dw_5_bn (BatchNormaliza (None, 20, 20, 256)       1024      \n",
      "_________________________________________________________________\n",
      "conv_dw_5_relu (ReLU)        (None, 20, 20, 256)       0         \n",
      "_________________________________________________________________\n",
      "conv_pw_5 (Conv2D)           (None, 20, 20, 256)       65536     \n",
      "_________________________________________________________________\n",
      "conv_pw_5_bn (BatchNormaliza (None, 20, 20, 256)       1024      \n",
      "_________________________________________________________________\n",
      "conv_pw_5_relu (ReLU)        (None, 20, 20, 256)       0         \n",
      "_________________________________________________________________\n",
      "conv_pad_6 (ZeroPadding2D)   (None, 21, 21, 256)       0         \n",
      "_________________________________________________________________\n",
      "conv_dw_6 (DepthwiseConv2D)  (None, 10, 10, 256)       2304      \n",
      "_________________________________________________________________\n",
      "conv_dw_6_bn (BatchNormaliza (None, 10, 10, 256)       1024      \n",
      "_________________________________________________________________\n",
      "conv_dw_6_relu (ReLU)        (None, 10, 10, 256)       0         \n",
      "_________________________________________________________________\n",
      "conv_pw_6 (Conv2D)           (None, 10, 10, 512)       131072    \n",
      "_________________________________________________________________\n",
      "conv_pw_6_bn (BatchNormaliza (None, 10, 10, 512)       2048      \n",
      "_________________________________________________________________\n",
      "conv_pw_6_relu (ReLU)        (None, 10, 10, 512)       0         \n",
      "_________________________________________________________________\n",
      "conv_dw_7 (DepthwiseConv2D)  (None, 10, 10, 512)       4608      \n",
      "_________________________________________________________________\n",
      "conv_dw_7_bn (BatchNormaliza (None, 10, 10, 512)       2048      \n",
      "_________________________________________________________________\n",
      "conv_dw_7_relu (ReLU)        (None, 10, 10, 512)       0         \n",
      "_________________________________________________________________\n",
      "conv_pw_7 (Conv2D)           (None, 10, 10, 512)       262144    \n",
      "_________________________________________________________________\n",
      "conv_pw_7_bn (BatchNormaliza (None, 10, 10, 512)       2048      \n",
      "_________________________________________________________________\n",
      "conv_pw_7_relu (ReLU)        (None, 10, 10, 512)       0         \n",
      "_________________________________________________________________\n",
      "conv_dw_8 (DepthwiseConv2D)  (None, 10, 10, 512)       4608      \n",
      "_________________________________________________________________\n",
      "conv_dw_8_bn (BatchNormaliza (None, 10, 10, 512)       2048      \n",
      "_________________________________________________________________\n",
      "conv_dw_8_relu (ReLU)        (None, 10, 10, 512)       0         \n",
      "_________________________________________________________________\n",
      "conv_pw_8 (Conv2D)           (None, 10, 10, 512)       262144    \n",
      "_________________________________________________________________\n",
      "conv_pw_8_bn (BatchNormaliza (None, 10, 10, 512)       2048      \n",
      "_________________________________________________________________\n",
      "conv_pw_8_relu (ReLU)        (None, 10, 10, 512)       0         \n",
      "_________________________________________________________________\n",
      "conv_dw_9 (DepthwiseConv2D)  (None, 10, 10, 512)       4608      \n",
      "_________________________________________________________________\n",
      "conv_dw_9_bn (BatchNormaliza (None, 10, 10, 512)       2048      \n",
      "_________________________________________________________________\n",
      "conv_dw_9_relu (ReLU)        (None, 10, 10, 512)       0         \n",
      "_________________________________________________________________\n",
      "conv_pw_9 (Conv2D)           (None, 10, 10, 512)       262144    \n",
      "_________________________________________________________________\n",
      "conv_pw_9_bn (BatchNormaliza (None, 10, 10, 512)       2048      \n",
      "_________________________________________________________________\n",
      "conv_pw_9_relu (ReLU)        (None, 10, 10, 512)       0         \n",
      "_________________________________________________________________\n",
      "conv_dw_10 (DepthwiseConv2D) (None, 10, 10, 512)       4608      \n",
      "_________________________________________________________________\n",
      "conv_dw_10_bn (BatchNormaliz (None, 10, 10, 512)       2048      \n",
      "_________________________________________________________________\n",
      "conv_dw_10_relu (ReLU)       (None, 10, 10, 512)       0         \n",
      "_________________________________________________________________\n",
      "conv_pw_10 (Conv2D)          (None, 10, 10, 512)       262144    \n",
      "_________________________________________________________________\n",
      "conv_pw_10_bn (BatchNormaliz (None, 10, 10, 512)       2048      \n",
      "_________________________________________________________________\n",
      "conv_pw_10_relu (ReLU)       (None, 10, 10, 512)       0         \n",
      "_________________________________________________________________\n",
      "conv_dw_11 (DepthwiseConv2D) (None, 10, 10, 512)       4608      \n",
      "_________________________________________________________________\n",
      "conv_dw_11_bn (BatchNormaliz (None, 10, 10, 512)       2048      \n",
      "_________________________________________________________________\n",
      "conv_dw_11_relu (ReLU)       (None, 10, 10, 512)       0         \n",
      "_________________________________________________________________\n",
      "conv_pw_11 (Conv2D)          (None, 10, 10, 512)       262144    \n",
      "_________________________________________________________________\n",
      "conv_pw_11_bn (BatchNormaliz (None, 10, 10, 512)       2048      \n",
      "_________________________________________________________________\n",
      "conv_pw_11_relu (ReLU)       (None, 10, 10, 512)       0         \n",
      "_________________________________________________________________\n",
      "conv_pad_12 (ZeroPadding2D)  (None, 11, 11, 512)       0         \n",
      "_________________________________________________________________\n",
      "conv_dw_12 (DepthwiseConv2D) (None, 5, 5, 512)         4608      \n",
      "_________________________________________________________________\n",
      "conv_dw_12_bn (BatchNormaliz (None, 5, 5, 512)         2048      \n",
      "_________________________________________________________________\n",
      "conv_dw_12_relu (ReLU)       (None, 5, 5, 512)         0         \n",
      "_________________________________________________________________\n",
      "conv_pw_12 (Conv2D)          (None, 5, 5, 1024)        524288    \n",
      "_________________________________________________________________\n",
      "conv_pw_12_bn (BatchNormaliz (None, 5, 5, 1024)        4096      \n",
      "_________________________________________________________________\n",
      "conv_pw_12_relu (ReLU)       (None, 5, 5, 1024)        0         \n",
      "_________________________________________________________________\n",
      "conv_dw_13 (DepthwiseConv2D) (None, 5, 5, 1024)        9216      \n",
      "_________________________________________________________________\n",
      "conv_dw_13_bn (BatchNormaliz (None, 5, 5, 1024)        4096      \n",
      "_________________________________________________________________\n",
      "conv_dw_13_relu (ReLU)       (None, 5, 5, 1024)        0         \n",
      "_________________________________________________________________\n",
      "conv_pw_13 (Conv2D)          (None, 5, 5, 1024)        1048576   \n",
      "_________________________________________________________________\n",
      "conv_pw_13_bn (BatchNormaliz (None, 5, 5, 1024)        4096      \n",
      "_________________________________________________________________\n",
      "conv_pw_13_relu (ReLU)       (None, 5, 5, 1024)        0         \n",
      "=================================================================\n",
      "Total params: 3,228,864\n",
      "Trainable params: 3,206,976\n",
      "Non-trainable params: 21,888\n",
      "_________________________________________________________________\n"
     ]
    }
   ],
   "source": [
    "base_model.summary()"
   ]
  },
  {
   "cell_type": "code",
   "execution_count": 7,
   "metadata": {},
   "outputs": [],
   "source": [
    "test_model = tensorflow.keras.models.Sequential()"
   ]
  },
  {
   "cell_type": "code",
   "execution_count": 8,
   "metadata": {
    "scrolled": true
   },
   "outputs": [
    {
     "name": "stdout",
     "output_type": "stream",
     "text": [
      "input_1\n",
      "conv1_pad\n",
      "conv1\n",
      "conv1_bn\n",
      "conv1_relu\n",
      "conv_dw_1\n",
      "conv_dw_1_bn\n",
      "conv_dw_1_relu\n",
      "conv_pw_1\n",
      "conv_pw_1_bn\n",
      "conv_pw_1_relu\n",
      "conv_pad_2\n",
      "conv_dw_2\n",
      "conv_dw_2_bn\n",
      "conv_dw_2_relu\n",
      "conv_pw_2\n",
      "conv_pw_2_bn\n",
      "conv_pw_2_relu\n",
      "conv_dw_3\n",
      "conv_dw_3_bn\n",
      "conv_dw_3_relu\n",
      "conv_pw_3\n",
      "conv_pw_3_bn\n",
      "conv_pw_3_relu\n",
      "conv_pad_4\n",
      "conv_dw_4\n",
      "conv_dw_4_bn\n",
      "conv_dw_4_relu\n",
      "conv_pw_4\n",
      "conv_pw_4_bn\n",
      "conv_pw_4_relu\n",
      "conv_dw_5\n",
      "conv_dw_5_bn\n",
      "conv_dw_5_relu\n",
      "conv_pw_5\n",
      "conv_pw_5_bn\n",
      "conv_pw_5_relu\n",
      "conv_pad_6\n",
      "conv_dw_6\n",
      "conv_dw_6_bn\n",
      "conv_dw_6_relu\n",
      "conv_pw_6\n",
      "conv_pw_6_bn\n",
      "conv_pw_6_relu\n"
     ]
    }
   ],
   "source": [
    "copy_layer_num = 50\n",
    "\n",
    "test_model.add(tf.keras.layers.InputLayer(input_shape=(160, 160, 3), name = 'haha'))\n",
    "for layer in base_model.layers[0:copy_layer_num - 6]:\n",
    "    print(layer.name)\n",
    "    test_model.add(layer)\n",
    "    layer.trainable = False\n",
    "for l1, l2 in zip(base_model.layers[0:copy_layer_num], test_model.layers[0:copy_layer_num]):\n",
    "    l2.set_weights(l1.get_weights())\n",
    "\n",
    "test_model.add(tf.keras.layers.Conv2D(512, kernel_size=(1, 1), activation='relu', padding='same'))\n",
    "test_model.add(tf.keras.layers.BatchNormalization())\n",
    "test_model.add(tf.keras.layers.MaxPooling2D(pool_size=(2, 2)))\n",
    "\n",
    "\n",
    "test_model.add(tf.keras.layers.Flatten())\n",
    "test_model.add(tf.keras.layers.Dense(7, activation = 'softmax'))"
   ]
  },
  {
   "cell_type": "code",
   "execution_count": 9,
   "metadata": {
    "scrolled": true
   },
   "outputs": [
    {
     "name": "stdout",
     "output_type": "stream",
     "text": [
      "Model: \"sequential\"\n",
      "_________________________________________________________________\n",
      "Layer (type)                 Output Shape              Param #   \n",
      "=================================================================\n",
      "input_1 (InputLayer)         multiple                  0         \n",
      "_________________________________________________________________\n",
      "conv1_pad (ZeroPadding2D)    (None, 161, 161, 3)       0         \n",
      "_________________________________________________________________\n",
      "conv1 (Conv2D)               (None, 80, 80, 32)        864       \n",
      "_________________________________________________________________\n",
      "conv1_bn (BatchNormalization (None, 80, 80, 32)        128       \n",
      "_________________________________________________________________\n",
      "conv1_relu (ReLU)            (None, 80, 80, 32)        0         \n",
      "_________________________________________________________________\n",
      "conv_dw_1 (DepthwiseConv2D)  (None, 80, 80, 32)        288       \n",
      "_________________________________________________________________\n",
      "conv_dw_1_bn (BatchNormaliza (None, 80, 80, 32)        128       \n",
      "_________________________________________________________________\n",
      "conv_dw_1_relu (ReLU)        (None, 80, 80, 32)        0         \n",
      "_________________________________________________________________\n",
      "conv_pw_1 (Conv2D)           (None, 80, 80, 64)        2048      \n",
      "_________________________________________________________________\n",
      "conv_pw_1_bn (BatchNormaliza (None, 80, 80, 64)        256       \n",
      "_________________________________________________________________\n",
      "conv_pw_1_relu (ReLU)        (None, 80, 80, 64)        0         \n",
      "_________________________________________________________________\n",
      "conv_pad_2 (ZeroPadding2D)   (None, 81, 81, 64)        0         \n",
      "_________________________________________________________________\n",
      "conv_dw_2 (DepthwiseConv2D)  (None, 40, 40, 64)        576       \n",
      "_________________________________________________________________\n",
      "conv_dw_2_bn (BatchNormaliza (None, 40, 40, 64)        256       \n",
      "_________________________________________________________________\n",
      "conv_dw_2_relu (ReLU)        (None, 40, 40, 64)        0         \n",
      "_________________________________________________________________\n",
      "conv_pw_2 (Conv2D)           (None, 40, 40, 128)       8192      \n",
      "_________________________________________________________________\n",
      "conv_pw_2_bn (BatchNormaliza (None, 40, 40, 128)       512       \n",
      "_________________________________________________________________\n",
      "conv_pw_2_relu (ReLU)        (None, 40, 40, 128)       0         \n",
      "_________________________________________________________________\n",
      "conv_dw_3 (DepthwiseConv2D)  (None, 40, 40, 128)       1152      \n",
      "_________________________________________________________________\n",
      "conv_dw_3_bn (BatchNormaliza (None, 40, 40, 128)       512       \n",
      "_________________________________________________________________\n",
      "conv_dw_3_relu (ReLU)        (None, 40, 40, 128)       0         \n",
      "_________________________________________________________________\n",
      "conv_pw_3 (Conv2D)           (None, 40, 40, 128)       16384     \n",
      "_________________________________________________________________\n",
      "conv_pw_3_bn (BatchNormaliza (None, 40, 40, 128)       512       \n",
      "_________________________________________________________________\n",
      "conv_pw_3_relu (ReLU)        (None, 40, 40, 128)       0         \n",
      "_________________________________________________________________\n",
      "conv_pad_4 (ZeroPadding2D)   (None, 41, 41, 128)       0         \n",
      "_________________________________________________________________\n",
      "conv_dw_4 (DepthwiseConv2D)  (None, 20, 20, 128)       1152      \n",
      "_________________________________________________________________\n",
      "conv_dw_4_bn (BatchNormaliza (None, 20, 20, 128)       512       \n",
      "_________________________________________________________________\n",
      "conv_dw_4_relu (ReLU)        (None, 20, 20, 128)       0         \n",
      "_________________________________________________________________\n",
      "conv_pw_4 (Conv2D)           (None, 20, 20, 256)       32768     \n",
      "_________________________________________________________________\n",
      "conv_pw_4_bn (BatchNormaliza (None, 20, 20, 256)       1024      \n",
      "_________________________________________________________________\n",
      "conv_pw_4_relu (ReLU)        (None, 20, 20, 256)       0         \n",
      "_________________________________________________________________\n",
      "conv_dw_5 (DepthwiseConv2D)  (None, 20, 20, 256)       2304      \n",
      "_________________________________________________________________\n",
      "conv_dw_5_bn (BatchNormaliza (None, 20, 20, 256)       1024      \n",
      "_________________________________________________________________\n",
      "conv_dw_5_relu (ReLU)        (None, 20, 20, 256)       0         \n",
      "_________________________________________________________________\n",
      "conv_pw_5 (Conv2D)           (None, 20, 20, 256)       65536     \n",
      "_________________________________________________________________\n",
      "conv_pw_5_bn (BatchNormaliza (None, 20, 20, 256)       1024      \n",
      "_________________________________________________________________\n",
      "conv_pw_5_relu (ReLU)        (None, 20, 20, 256)       0         \n",
      "_________________________________________________________________\n",
      "conv_pad_6 (ZeroPadding2D)   (None, 21, 21, 256)       0         \n",
      "_________________________________________________________________\n",
      "conv_dw_6 (DepthwiseConv2D)  (None, 10, 10, 256)       2304      \n",
      "_________________________________________________________________\n",
      "conv_dw_6_bn (BatchNormaliza (None, 10, 10, 256)       1024      \n",
      "_________________________________________________________________\n",
      "conv_dw_6_relu (ReLU)        (None, 10, 10, 256)       0         \n",
      "_________________________________________________________________\n",
      "conv_pw_6 (Conv2D)           (None, 10, 10, 512)       131072    \n",
      "_________________________________________________________________\n",
      "conv_pw_6_bn (BatchNormaliza (None, 10, 10, 512)       2048      \n",
      "_________________________________________________________________\n",
      "conv_pw_6_relu (ReLU)        (None, 10, 10, 512)       0         \n",
      "_________________________________________________________________\n",
      "conv2d (Conv2D)              (None, 10, 10, 512)       262656    \n",
      "_________________________________________________________________\n",
      "batch_normalization (BatchNo (None, 10, 10, 512)       2048      \n",
      "_________________________________________________________________\n",
      "max_pooling2d (MaxPooling2D) (None, 5, 5, 512)         0         \n",
      "_________________________________________________________________\n",
      "flatten (Flatten)            (None, 12800)             0         \n",
      "_________________________________________________________________\n",
      "dense (Dense)                (None, 7)                 89607     \n",
      "=================================================================\n",
      "Total params: 627,911\n",
      "Trainable params: 353,287\n",
      "Non-trainable params: 274,624\n",
      "_________________________________________________________________\n"
     ]
    }
   ],
   "source": [
    "test_model.compile(loss=tf.keras.losses.categorical_crossentropy, optimizer=tf.keras.optimizers.Adam(),metrics=['accuracy'])\n",
    "#test_model.build(input_shape=(None, 160, 160, 3))\n",
    "test_model.summary()"
   ]
  },
  {
   "cell_type": "code",
   "execution_count": 10,
   "metadata": {},
   "outputs": [
    {
     "name": "stdout",
     "output_type": "stream",
     "text": [
      "750\n",
      "750\n"
     ]
    }
   ],
   "source": [
    "images, labels = load_CKPLUS()\n",
    "\n",
    "print(len(images))\n",
    "print(len(labels))"
   ]
  },
  {
   "cell_type": "code",
   "execution_count": 11,
   "metadata": {},
   "outputs": [],
   "source": [
    "train_data, test_data, train_labels, test_labels = train_test_split(images, labels, test_size = 0.2, random_state = 13)"
   ]
  },
  {
   "cell_type": "code",
   "execution_count": 12,
   "metadata": {},
   "outputs": [],
   "source": [
    "test_labels = np.asarray(test_labels)\n",
    "train_labels = np.asarray(train_labels)\n",
    "test_data = np.asarray(test_data)\n",
    "train_data = np.asarray(train_data)\n",
    "\n",
    "train_data = train_data.reshape((-1, 160, 160, 3))"
   ]
  },
  {
   "cell_type": "code",
   "execution_count": null,
   "metadata": {},
   "outputs": [],
   "source": []
  },
  {
   "cell_type": "code",
   "execution_count": 13,
   "metadata": {},
   "outputs": [],
   "source": [
    "train_Y_one_hot = to_categorical(train_labels)\n",
    "test_Y_one_hot = to_categorical(test_labels)"
   ]
  },
  {
   "cell_type": "code",
   "execution_count": 14,
   "metadata": {},
   "outputs": [
    {
     "name": "stdout",
     "output_type": "stream",
     "text": [
      "(150, 7)\n"
     ]
    }
   ],
   "source": [
    "print(test_Y_one_hot.shape)"
   ]
  },
  {
   "cell_type": "code",
   "execution_count": 15,
   "metadata": {},
   "outputs": [],
   "source": [
    "train_X_c,valid_X_c,train_label,valid_label = train_test_split(train_data, train_Y_one_hot,test_size=0.2,random_state=13)\n"
   ]
  },
  {
   "cell_type": "code",
   "execution_count": 16,
   "metadata": {},
   "outputs": [
    {
     "name": "stdout",
     "output_type": "stream",
     "text": [
      "Epoch 1/15\n",
      "30/30 [==============================] - 1s 24ms/step - loss: 1.3545 - accuracy: 0.7208 - val_loss: 6.8550 - val_accuracy: 0.3667\n",
      "Epoch 2/15\n",
      "30/30 [==============================] - 0s 13ms/step - loss: 0.1319 - accuracy: 0.9583 - val_loss: 0.4472 - val_accuracy: 0.8583\n",
      "Epoch 3/15\n",
      "30/30 [==============================] - 0s 13ms/step - loss: 0.0101 - accuracy: 0.9979 - val_loss: 1.2172 - val_accuracy: 0.6583\n",
      "Epoch 4/15\n",
      "30/30 [==============================] - 0s 13ms/step - loss: 0.0016 - accuracy: 1.0000 - val_loss: 0.2568 - val_accuracy: 0.9083\n",
      "Epoch 5/15\n",
      "30/30 [==============================] - 0s 13ms/step - loss: 8.0368e-04 - accuracy: 1.0000 - val_loss: 0.0819 - val_accuracy: 0.9833\n",
      "Epoch 6/15\n",
      "30/30 [==============================] - 0s 13ms/step - loss: 6.7918e-04 - accuracy: 1.0000 - val_loss: 0.0342 - val_accuracy: 0.9917\n",
      "Epoch 7/15\n",
      "30/30 [==============================] - 0s 13ms/step - loss: 6.2698e-04 - accuracy: 1.0000 - val_loss: 0.0243 - val_accuracy: 0.9833\n",
      "Epoch 8/15\n",
      "30/30 [==============================] - 0s 13ms/step - loss: 4.6410e-04 - accuracy: 1.0000 - val_loss: 0.0283 - val_accuracy: 0.9917\n",
      "Epoch 9/15\n",
      "30/30 [==============================] - 0s 13ms/step - loss: 4.2776e-04 - accuracy: 1.0000 - val_loss: 0.0299 - val_accuracy: 0.9917\n",
      "Epoch 10/15\n",
      "30/30 [==============================] - 0s 13ms/step - loss: 3.4339e-04 - accuracy: 1.0000 - val_loss: 0.0359 - val_accuracy: 0.9917\n",
      "Epoch 11/15\n",
      "30/30 [==============================] - 0s 13ms/step - loss: 3.4018e-04 - accuracy: 1.0000 - val_loss: 0.0410 - val_accuracy: 0.9917\n",
      "Epoch 12/15\n",
      "30/30 [==============================] - 0s 13ms/step - loss: 3.0840e-04 - accuracy: 1.0000 - val_loss: 0.0451 - val_accuracy: 0.9917\n",
      "Epoch 13/15\n",
      "30/30 [==============================] - 0s 13ms/step - loss: 2.8164e-04 - accuracy: 1.0000 - val_loss: 0.0482 - val_accuracy: 0.9917\n",
      "Epoch 14/15\n",
      "30/30 [==============================] - 0s 14ms/step - loss: 2.8053e-04 - accuracy: 1.0000 - val_loss: 0.0505 - val_accuracy: 0.9917\n",
      "Epoch 15/15\n",
      "30/30 [==============================] - 0s 13ms/step - loss: 2.5962e-04 - accuracy: 1.0000 - val_loss: 0.0549 - val_accuracy: 0.9917\n"
     ]
    }
   ],
   "source": [
    "classify_train = test_model.fit(train_X_c, train_label, batch_size=16,epochs=15,verbose=1,validation_data=(valid_X_c, valid_label))"
   ]
  },
  {
   "cell_type": "code",
   "execution_count": 17,
   "metadata": {
    "scrolled": true
   },
   "outputs": [],
   "source": [
    "test_res = test_model.evaluate(test_data, test_Y_one_hot, verbose = 0)\n"
   ]
  },
  {
   "cell_type": "code",
   "execution_count": 18,
   "metadata": {},
   "outputs": [
    {
     "name": "stdout",
     "output_type": "stream",
     "text": [
      "[0.07062482088804245, 0.9866666793823242]\n"
     ]
    }
   ],
   "source": [
    "print(test_res)"
   ]
  },
  {
   "cell_type": "code",
   "execution_count": null,
   "metadata": {},
   "outputs": [],
   "source": []
  },
  {
   "cell_type": "code",
   "execution_count": null,
   "metadata": {},
   "outputs": [],
   "source": []
  },
  {
   "cell_type": "code",
   "execution_count": 19,
   "metadata": {},
   "outputs": [],
   "source": [
    "import pandas as pd\n",
    "import collections\n",
    "from imblearn.over_sampling import RandomOverSampler\n",
    "import matplotlib.pyplot as plt"
   ]
  },
  {
   "cell_type": "code",
   "execution_count": 20,
   "metadata": {},
   "outputs": [],
   "source": [
    "def preprocessing_resize(pixels):\n",
    "    a = []\n",
    "    \n",
    "    for i in range(len(pixels)):\n",
    "            image_string = (pixels)[i].split(' ') \n",
    "            image_data = np.asarray(image_string, dtype=np.uint8).reshape(48,48,1)\n",
    "            #image_data = cv2.resize(image_data, dsize=(160, 160), interpolation=cv2.INTER_CUBIC)\n",
    "            #image_data = image_data.reshape(160, 160, 1)\n",
    "            image_data2 = cv2.merge((image_data, image_data, image_data))\n",
    "            a.append(image_data2)\n",
    "\n",
    "    return a"
   ]
  },
  {
   "cell_type": "code",
   "execution_count": 21,
   "metadata": {},
   "outputs": [],
   "source": [
    "def load_dataset2():\n",
    "    train_csv = pd.read_csv('../Facial expression/data/data_b/train.csv')\n",
    "    \n",
    "    oversample = RandomOverSampler(sampling_strategy='auto')\n",
    "\n",
    "    X_over, y_over = oversample.fit_resample((train_csv.pixels).values.reshape(-1, 1), train_csv.emotion)\n",
    "\n",
    "    a = np.array(y_over)\n",
    "    \n",
    "    y_over = pd.Series(y_over)\n",
    "    y_over= y_over.values.reshape(len(y_over),1)\n",
    "    \n",
    "    y_over = to_categorical(y_over)\n",
    "\n",
    "    X_train,X_val,y_train,y_val = train_test_split(X_over,y_over, test_size=0.2)\n",
    "    \n",
    "    X_train = pd.Series(X_train.flatten())\n",
    "    X_train = np.array(preprocessing_resize(X_train))\n",
    "    \n",
    "    X_val = pd.Series(X_val.flatten())\n",
    "    X_val = np.array(preprocessing_resize(X_val))\n",
    "    \n",
    "    \n",
    "    print (\"X_train shape: \" + str(X_train.shape))\n",
    "    print (\"y_train shape: \" + str(y_train.shape))\n",
    "    print (\"X_val shape: \" + str(X_val.shape))\n",
    "    print (\"y_val shape: \" + str(y_val.shape))\n",
    "    \n",
    "    return X_train, y_train, X_val, y_val"
   ]
  },
  {
   "cell_type": "code",
   "execution_count": 22,
   "metadata": {},
   "outputs": [
    {
     "name": "stdout",
     "output_type": "stream",
     "text": [
      "X_train shape: (40404, 48, 48, 3)\n",
      "y_train shape: (40404, 7)\n",
      "X_val shape: (10101, 48, 48, 3)\n",
      "y_val shape: (10101, 7)\n"
     ]
    }
   ],
   "source": [
    "X_train, y_train, X_val, y_val = load_dataset2()"
   ]
  },
  {
   "cell_type": "code",
   "execution_count": null,
   "metadata": {},
   "outputs": [],
   "source": []
  },
  {
   "cell_type": "code",
   "execution_count": null,
   "metadata": {},
   "outputs": [],
   "source": []
  },
  {
   "cell_type": "code",
   "execution_count": 23,
   "metadata": {},
   "outputs": [
    {
     "data": {
      "text/plain": [
       "(48, 48, 3)"
      ]
     },
     "execution_count": 23,
     "metadata": {},
     "output_type": "execute_result"
    }
   ],
   "source": [
    "sample1 = X_train[1319]\n",
    "sample1.shape"
   ]
  },
  {
   "cell_type": "code",
   "execution_count": 24,
   "metadata": {},
   "outputs": [
    {
     "data": {
      "text/plain": [
       "<matplotlib.image.AxesImage at 0x7f3c0374dc10>"
      ]
     },
     "execution_count": 24,
     "metadata": {},
     "output_type": "execute_result"
    },
    {
     "data": {
      "image/png": "[encoded data removed]",
      "text/plain": [
       "<Figure size 432x288 with 1 Axes>"
      ]
     },
     "metadata": {
      "needs_background": "light"
     },
     "output_type": "display_data"
    }
   ],
   "source": [
    "plt.imshow(sample1)"
   ]
  },
  {
   "cell_type": "code",
   "execution_count": 25,
   "metadata": {},
   "outputs": [],
   "source": [
    "model2 = tensorflow.keras.models.Sequential()"
   ]
  },
  {
   "cell_type": "code",
   "execution_count": 26,
   "metadata": {},
   "outputs": [],
   "source": [
    "resnet = tf.keras.applications.ResNet50(include_top=False, weights='imagenet', input_shape=(48, 48, 3))"
   ]
  },
  {
   "cell_type": "code",
   "execution_count": 27,
   "metadata": {},
   "outputs": [],
   "source": [
    "resnet.trainable = False\n",
    "model2.add(resnet)\n",
    "model2.add(tf.keras.layers.Flatten())\n",
    "model2.add(tf.keras.layers.Dense(7, activation = 'softmax'))\n"
   ]
  },
  {
   "cell_type": "code",
   "execution_count": 28,
   "metadata": {},
   "outputs": [
    {
     "name": "stdout",
     "output_type": "stream",
     "text": [
      "Model: \"sequential_1\"\n",
      "_________________________________________________________________\n",
      "Layer (type)                 Output Shape              Param #   \n",
      "=================================================================\n",
      "resnet50 (Model)             (None, 2, 2, 2048)        23587712  \n",
      "_________________________________________________________________\n",
      "flatten_1 (Flatten)          (None, 8192)              0         \n",
      "_________________________________________________________________\n",
      "dense_1 (Dense)              (None, 7)                 57351     \n",
      "=================================================================\n",
      "Total params: 23,645,063\n",
      "Trainable params: 57,351\n",
      "Non-trainable params: 23,587,712\n",
      "_________________________________________________________________\n"
     ]
    }
   ],
   "source": [
    "model2.summary()"
   ]
  },
  {
   "cell_type": "code",
   "execution_count": 29,
   "metadata": {},
   "outputs": [],
   "source": [
    "model2.compile(loss=tf.keras.losses.categorical_crossentropy, optimizer=tf.keras.optimizers.Adam(),metrics=['accuracy'])"
   ]
  },
  {
   "cell_type": "code",
   "execution_count": 30,
   "metadata": {},
   "outputs": [
    {
     "name": "stdout",
     "output_type": "stream",
     "text": [
      "Epoch 1/5\n",
      "1263/1263 [==============================] - 23s 18ms/step - loss: 2.1688 - accuracy: 0.4282 - val_loss: 1.8539 - val_accuracy: 0.5053\n",
      "Epoch 2/5\n",
      "1263/1263 [==============================] - 22s 17ms/step - loss: 1.6052 - accuracy: 0.5569 - val_loss: 1.7284 - val_accuracy: 0.5375\n",
      "Epoch 3/5\n",
      "1263/1263 [==============================] - 22s 17ms/step - loss: 1.4351 - accuracy: 0.6015 - val_loss: 2.3650 - val_accuracy: 0.4981\n",
      "Epoch 4/5\n",
      "1263/1263 [==============================] - 22s 18ms/step - loss: 1.3178 - accuracy: 0.6340 - val_loss: 2.0341 - val_accuracy: 0.5570\n",
      "Epoch 5/5\n",
      "1263/1263 [==============================] - 22s 18ms/step - loss: 1.2474 - accuracy: 0.6559 - val_loss: 1.8959 - val_accuracy: 0.5795\n"
     ]
    }
   ],
   "source": [
    "history = model2.fit(X_train, y_train, \n",
    "                     batch_size = 32, \n",
    "                     epochs = 5, \n",
    "                     verbose = 1, \n",
    "                     validation_data = (X_val, y_val))"
   ]
  },
  {
   "cell_type": "code",
   "execution_count": 35,
   "metadata": {},
   "outputs": [],
   "source": [
    "histories={}\n",
    "histories[1] = history\n",
    "initial_epochs = 5\n",
    "total_epochs = 5"
   ]
  },
  {
   "cell_type": "code",
   "execution_count": 36,
   "metadata": {},
   "outputs": [
    {
     "name": "stdout",
     "output_type": "stream",
     "text": [
      "Epoch 5/10\n",
      "1263/1263 [==============================] - 22s 17ms/step - loss: 1.1905 - accuracy: 0.6694 - val_loss: 2.1482 - val_accuracy: 0.5666\n",
      "Epoch 6/10\n",
      "1263/1263 [==============================] - 22s 17ms/step - loss: 1.1465 - accuracy: 0.6811 - val_loss: 2.1524 - val_accuracy: 0.5818\n",
      "Epoch 7/10\n",
      "1263/1263 [==============================] - 22s 17ms/step - loss: 1.0754 - accuracy: 0.7024 - val_loss: 1.8802 - val_accuracy: 0.6081\n",
      "Epoch 8/10\n",
      "1263/1263 [==============================] - 22s 17ms/step - loss: 1.0762 - accuracy: 0.7070 - val_loss: 2.0018 - val_accuracy: 0.6085\n",
      "Epoch 9/10\n",
      "1263/1263 [==============================] - 22s 17ms/step - loss: 1.0132 - accuracy: 0.7190 - val_loss: 2.1974 - val_accuracy: 0.6048\n",
      "Epoch 10/10\n",
      "1263/1263 [==============================] - 22s 17ms/step - loss: 0.9668 - accuracy: 0.7329 - val_loss: 2.1606 - val_accuracy: 0.6071\n"
     ]
    }
   ],
   "source": [
    "index = 2\n",
    "add_epochs = 5\n",
    "total_epochs = initial_epochs + add_epochs\n",
    "\n",
    "history = model2.fit(X_train, y_train, \n",
    "                     batch_size = 32, \n",
    "                     epochs = total_epochs,\n",
    "                     initial_epoch=histories[index-1].epoch[-1],\n",
    "                     verbose = 1, \n",
    "                     validation_data = (X_val, y_val))\n",
    "initial_epochs = total_epochs"
   ]
  },
  {
   "cell_type": "code",
   "execution_count": 37,
   "metadata": {},
   "outputs": [],
   "source": [
    "histories[index] = history\n",
    "acc = histories[1].history['accuracy']+history.history['accuracy']\n",
    "val_acc = histories[1].history['val_accuracy']+history.history['val_accuracy']\n",
    "\n",
    "loss = histories[1].history['loss']+history.history['loss']\n",
    "val_loss = histories[1].history['val_loss']+history.history['val_loss']"
   ]
  },
  {
   "cell_type": "code",
   "execution_count": 39,
   "metadata": {},
   "outputs": [
    {
     "data": {
      "image/png": "[encoded data removed]",
      "text/plain": [
       "<Figure size 576x576 with 2 Axes>"
      ]
     },
     "metadata": {
      "needs_background": "light"
     },
     "output_type": "display_data"
    }
   ],
   "source": [
    "plot_process(acc, val_acc, loss, val_loss)"
   ]
  },
  {
   "cell_type": "code",
   "execution_count": 40,
   "metadata": {},
   "outputs": [
    {
     "name": "stdout",
     "output_type": "stream",
     "text": [
      "Epoch 10/15\n",
      "1263/1263 [==============================] - 22s 17ms/step - loss: 0.9576 - accuracy: 0.7371 - val_loss: 2.1066 - val_accuracy: 0.6153\n",
      "Epoch 11/15\n",
      "1263/1263 [==============================] - 22s 17ms/step - loss: 0.9583 - accuracy: 0.7403 - val_loss: 2.1256 - val_accuracy: 0.6224\n",
      "Epoch 12/15\n",
      "1263/1263 [==============================] - 22s 17ms/step - loss: 0.9099 - accuracy: 0.7468 - val_loss: 2.1070 - val_accuracy: 0.6290\n",
      "Epoch 13/15\n",
      "1263/1263 [==============================] - 22s 17ms/step - loss: 0.8997 - accuracy: 0.7514 - val_loss: 2.0196 - val_accuracy: 0.6421\n",
      "Epoch 14/15\n",
      "1263/1263 [==============================] - 22s 17ms/step - loss: 0.8711 - accuracy: 0.7570 - val_loss: 2.3601 - val_accuracy: 0.6088\n",
      "Epoch 15/15\n",
      "1263/1263 [==============================] - 22s 17ms/step - loss: 0.8746 - accuracy: 0.7635 - val_loss: 2.3874 - val_accuracy: 0.6215\n"
     ]
    }
   ],
   "source": [
    "index = 3\n",
    "add_epochs = 5\n",
    "total_epochs = initial_epochs + add_epochs\n",
    "resnet.trainable = True\n",
    "history = model2.fit(X_train, y_train, \n",
    "                     batch_size = 32, \n",
    "                     epochs = total_epochs,\n",
    "                     initial_epoch=histories[index-1].epoch[-1],\n",
    "                     verbose = 1, \n",
    "                     validation_data = (X_val, y_val))\n"
   ]
  },
  {
   "cell_type": "code",
   "execution_count": 43,
   "metadata": {},
   "outputs": [
    {
     "data": {
      "image/png": "[encoded data removed]",
      "text/plain": [
       "<Figure size 576x576 with 2 Axes>"
      ]
     },
     "metadata": {
      "needs_background": "light"
     },
     "output_type": "display_data"
    }
   ],
   "source": [
    "initial_epochs = total_epochs\n",
    "histories[index] = history\n",
    "acc += history.history['accuracy']\n",
    "val_acc += history.history['val_accuracy']\n",
    "\n",
    "loss += history.history['loss']\n",
    "val_loss += history.history['val_loss']\n",
    "plot_process(acc, val_acc, loss, val_loss)"
   ]
  },
  {
   "cell_type": "code",
   "execution_count": 44,
   "metadata": {},
   "outputs": [
    {
     "name": "stdout",
     "output_type": "stream",
     "text": [
      "Epoch 15/35\n",
      "1263/1263 [==============================] - 22s 17ms/step - loss: 0.8416 - accuracy: 0.7685 - val_loss: 2.5426 - val_accuracy: 0.6198\n",
      "Epoch 16/35\n",
      "1263/1263 [==============================] - 22s 17ms/step - loss: 0.8313 - accuracy: 0.7704 - val_loss: 2.3749 - val_accuracy: 0.6342\n",
      "Epoch 17/35\n",
      "1263/1263 [==============================] - 22s 17ms/step - loss: 0.8150 - accuracy: 0.7752 - val_loss: 2.3394 - val_accuracy: 0.6272\n",
      "Epoch 18/35\n",
      "1263/1263 [==============================] - 22s 17ms/step - loss: 0.7827 - accuracy: 0.7830 - val_loss: 2.3425 - val_accuracy: 0.6500\n",
      "Epoch 19/35\n",
      "1263/1263 [==============================] - 22s 17ms/step - loss: 0.7936 - accuracy: 0.7837 - val_loss: 2.5903 - val_accuracy: 0.6270\n",
      "Epoch 20/35\n",
      "1263/1263 [==============================] - 22s 17ms/step - loss: 0.7443 - accuracy: 0.7926 - val_loss: 2.2740 - val_accuracy: 0.6594\n",
      "Epoch 21/35\n",
      "1263/1263 [==============================] - 22s 17ms/step - loss: 0.7556 - accuracy: 0.7916 - val_loss: 2.5415 - val_accuracy: 0.6411\n",
      "Epoch 22/35\n",
      "1263/1263 [==============================] - 22s 17ms/step - loss: 0.7500 - accuracy: 0.7951 - val_loss: 2.4441 - val_accuracy: 0.6651\n",
      "Epoch 23/35\n",
      "1263/1263 [==============================] - 22s 17ms/step - loss: 0.7172 - accuracy: 0.7996 - val_loss: 2.5185 - val_accuracy: 0.6440\n",
      "Epoch 24/35\n",
      "1263/1263 [==============================] - 22s 17ms/step - loss: 0.6945 - accuracy: 0.8063 - val_loss: 2.8619 - val_accuracy: 0.6160\n",
      "Epoch 25/35\n",
      "1263/1263 [==============================] - 22s 17ms/step - loss: 0.7049 - accuracy: 0.8048 - val_loss: 2.5126 - val_accuracy: 0.6424\n",
      "Epoch 26/35\n",
      "1263/1263 [==============================] - 22s 17ms/step - loss: 0.6717 - accuracy: 0.8122 - val_loss: 2.5970 - val_accuracy: 0.6580\n",
      "Epoch 27/35\n",
      "1263/1263 [==============================] - 22s 17ms/step - loss: 0.6987 - accuracy: 0.8100 - val_loss: 2.6572 - val_accuracy: 0.6389\n",
      "Epoch 28/35\n",
      "1263/1263 [==============================] - 22s 17ms/step - loss: 0.6719 - accuracy: 0.8126 - val_loss: 2.7441 - val_accuracy: 0.6299\n",
      "Epoch 29/35\n",
      "1263/1263 [==============================] - 22s 18ms/step - loss: 0.6644 - accuracy: 0.8149 - val_loss: 2.6998 - val_accuracy: 0.6591\n",
      "Epoch 30/35\n",
      "1263/1263 [==============================] - 22s 18ms/step - loss: 0.6567 - accuracy: 0.8187 - val_loss: 2.7380 - val_accuracy: 0.6676\n",
      "Epoch 31/35\n",
      "1263/1263 [==============================] - 22s 18ms/step - loss: 0.6464 - accuracy: 0.8222 - val_loss: 2.5936 - val_accuracy: 0.6788\n",
      "Epoch 32/35\n",
      "1263/1263 [==============================] - 22s 18ms/step - loss: 0.6349 - accuracy: 0.8249 - val_loss: 2.7311 - val_accuracy: 0.6612\n",
      "Epoch 33/35\n",
      "1263/1263 [==============================] - 22s 17ms/step - loss: 0.6081 - accuracy: 0.8287 - val_loss: 2.9026 - val_accuracy: 0.6484\n",
      "Epoch 34/35\n",
      "1263/1263 [==============================] - 22s 18ms/step - loss: 0.6239 - accuracy: 0.8280 - val_loss: 3.0764 - val_accuracy: 0.6452\n",
      "Epoch 35/35\n",
      "1263/1263 [==============================] - 22s 17ms/step - loss: 0.6205 - accuracy: 0.8267 - val_loss: 2.7842 - val_accuracy: 0.6725\n"
     ]
    }
   ],
   "source": [
    "index = 4\n",
    "add_epochs = 20\n",
    "total_epochs = initial_epochs + add_epochs\n",
    "resnet.trainable = True\n",
    "history = model2.fit(X_train, y_train, \n",
    "                     batch_size = 32, \n",
    "                     epochs = total_epochs,\n",
    "                     initial_epoch=histories[index-1].epoch[-1],\n",
    "                     verbose = 1, \n",
    "                     validation_data = (X_val, y_val))"
   ]
  },
  {
   "cell_type": "code",
   "execution_count": 45,
   "metadata": {},
   "outputs": [
    {
     "data": {
      "image/png": "[encoded data removed]",
      "text/plain": [
       "<Figure size 576x576 with 2 Axes>"
      ]
     },
     "metadata": {
      "needs_background": "light"
     },
     "output_type": "display_data"
    }
   ],
   "source": [
    "initial_epochs = total_epochs\n",
    "histories[index] = history\n",
    "acc += history.history['accuracy']\n",
    "val_acc += history.history['val_accuracy']\n",
    "\n",
    "loss += history.history['loss']\n",
    "val_loss += history.history['val_loss']\n",
    "plot_process(acc, val_acc, loss, val_loss)"
   ]
  },
  {
   "cell_type": "code",
   "execution_count": null,
   "metadata": {},
   "outputs": [],
   "source": []
  }
 ],
 "metadata": {
  "kernelspec": {
   "display_name": "conda-tf-gpu",
   "language": "python",
   "name": "tf-gpu"
  },
  "language_info": {
   "codemirror_mode": {
    "name": "ipython",
    "version": 3
   },
   "file_extension": ".py",
   "mimetype": "text/x-python",
   "name": "python",
   "nbconvert_exporter": "python",
   "pygments_lexer": "ipython3",
   "version": "3.8.5"
  }
 },
 "nbformat": 4,
 "nbformat_minor": 4
}
